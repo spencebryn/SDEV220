{
 "cells": [
  {
   "cell_type": "code",
   "execution_count": 16,
   "id": "90282493",
   "metadata": {},
   "outputs": [
    {
     "name": "stdout",
     "output_type": "stream",
     "text": [
      "MOZZARELLA\n",
      "['mozzarella', 'cinderella', 'salmonella']\n",
      "Cinderella\n",
      "['mozzarella', 'cinderella', 'salmonella']\n",
      "['mozzarella', 'cinderella']\n",
      "['mozzarella', 'cinderella']\n"
     ]
    }
   ],
   "source": [
    "things = [\"mozzarella\", \"cinderella\", \"salmonella\"]\n",
    "for thing in things:\n",
    "    if thing == \"cinderella\":\n",
    "        thing = thing.capitalize()\n",
    "        print(thing)\n",
    "        print(things)\n",
    "    elif thing == \"mozzarella\":\n",
    "        thing = thing.upper()\n",
    "        print(thing)\n",
    "        print(things)\n",
    "    elif thing == \"salmonella\":\n",
    "        things.remove(thing)\n",
    "        print(things)\n",
    "    else:\n",
    "        break\n",
    "print(things)"
   ]
  },
  {
   "cell_type": "markdown",
   "id": "b44e1414",
   "metadata": {},
   "source": [
    "7.5: When capitalizing the string, it does not change the element in the loop. The way that I would save the changed element would be in a new list."
   ]
  },
  {
   "cell_type": "markdown",
   "id": "bc00ac8f",
   "metadata": {},
   "source": [
    "9.1"
   ]
  },
  {
   "cell_type": "code",
   "execution_count": 22,
   "id": "52f062a1",
   "metadata": {},
   "outputs": [
    {
     "data": {
      "text/plain": [
       "['Harry', 'Ron', 'Herminone']"
      ]
     },
     "execution_count": 22,
     "metadata": {},
     "output_type": "execute_result"
    }
   ],
   "source": [
    "def good(mainchar, sidechar, sidecharloveint):\n",
    "    goodlist = [mainchar, sidechar, sidecharloveint]\n",
    "    return goodlist\n",
    "good('Harry', 'Ron', 'Herminone')\n",
    "\n",
    "    "
   ]
  },
  {
   "cell_type": "markdown",
   "id": "2a789c3c",
   "metadata": {},
   "source": [
    "9.2"
   ]
  },
  {
   "cell_type": "code",
   "execution_count": 36,
   "id": "8b548a0c",
   "metadata": {},
   "outputs": [
    {
     "name": "stdout",
     "output_type": "stream",
     "text": [
      "The third generated odd number is:  5\n"
     ]
    }
   ],
   "source": [
    "def get_odds():\n",
    "    for num in range(10):\n",
    "        if num % 2:\n",
    "            yield num\n",
    "            \n",
    "ncount = 0            \n",
    "for num in get_odds():\n",
    "    if num != 0:\n",
    "        ncount += 1\n",
    "    if ncount == 3:\n",
    "        print(\"The third generated odd number is: \", num)\n",
    "            "
   ]
  },
  {
   "cell_type": "code",
   "execution_count": null,
   "id": "cdbc5847",
   "metadata": {},
   "outputs": [],
   "source": []
  },
  {
   "cell_type": "code",
   "execution_count": null,
   "id": "4efb325f",
   "metadata": {},
   "outputs": [],
   "source": []
  }
 ],
 "metadata": {
  "kernelspec": {
   "display_name": "Python 3 (ipykernel)",
   "language": "python",
   "name": "python3"
  },
  "language_info": {
   "codemirror_mode": {
    "name": "ipython",
    "version": 3
   },
   "file_extension": ".py",
   "mimetype": "text/x-python",
   "name": "python",
   "nbconvert_exporter": "python",
   "pygments_lexer": "ipython3",
   "version": "3.9.12"
  }
 },
 "nbformat": 4,
 "nbformat_minor": 5
}
