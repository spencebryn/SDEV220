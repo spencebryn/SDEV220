{
 "cells": [
  {
   "cell_type": "code",
   "execution_count": 14,
   "id": "90b3c32e",
   "metadata": {},
   "outputs": [
    {
     "name": "stdout",
     "output_type": "stream",
     "text": [
      "Provide an integer between 1 and 10: 5\n",
      "Just right!\n"
     ]
    }
   ],
   "source": [
    "secret = 5\n",
    "guess = int(input(\"Provide an integer between 1 and 10: \"))\n",
    "if guess > 10:\n",
    "    guess = int(input(\"Please provide a valid integer between 1 and 10: \"))\n",
    "if guess > secret:\n",
    "    print(\"Too high!\")\n",
    "elif guess < secret:\n",
    "    print(\"Too low!\")\n",
    "else:\n",
    "    print(\"Just right!\")"
   ]
  },
  {
   "cell_type": "code",
   "execution_count": 17,
   "id": "972ca9b7",
   "metadata": {},
   "outputs": [
    {
     "name": "stdout",
     "output_type": "stream",
     "text": [
      "Provide a fruit or vegetable: watermelon\n",
      "It is not small but it is green.\n"
     ]
    }
   ],
   "source": [
    "small = False\n",
    "green = False\n",
    "veg = str(input(\"Provide a fruit or vegetable: \"))\n",
    "if veg.upper() == \"CHERRY\":\n",
    "    small = True\n",
    "    green = False\n",
    "    print(\"It is small but not green.\")\n",
    "elif veg.upper() == \"PEA\":\n",
    "    small = True\n",
    "    green = True\n",
    "    print(\"It is small and green.\")\n",
    "elif veg.upper() == \"WATERMELON\":\n",
    "    small = False\n",
    "    green = True\n",
    "    print(\"It is not small but it is green.\")\n",
    "elif veg.upper() == \"PUMPKIN\":\n",
    "    small = False\n",
    "    green = False\n",
    "    print(\"It is neither small nor green. Also, what pumpkin?\")\n",
    "else:\n",
    "    veg = str(input(\"You have entered a veggie I do not know. Please try again: \"))"
   ]
  },
  {
   "cell_type": "code",
   "execution_count": 19,
   "id": "108193f1",
   "metadata": {
    "scrolled": true
   },
   "outputs": [
    {
     "name": "stdout",
     "output_type": "stream",
     "text": [
      "3\n",
      "2\n",
      "1\n",
      "0\n"
     ]
    }
   ],
   "source": [
    "list = [3, 2, 1, 0]\n",
    "for i in list:\n",
    "    print(i)"
   ]
  },
  {
   "cell_type": "code",
   "execution_count": 26,
   "id": "5de1c383",
   "metadata": {},
   "outputs": [
    {
     "name": "stdout",
     "output_type": "stream",
     "text": [
      "too low!\n",
      "too low!\n",
      "too low!\n",
      "too low!\n",
      "too low!\n",
      "too low!\n",
      "found it!\n"
     ]
    }
   ],
   "source": [
    "guess_me = 7\n",
    "number = 1\n",
    "while number != guess_me:\n",
    "    if number < guess_me:\n",
    "        print(\"too low!\")\n",
    "    if number > guess_me:\n",
    "        print(\"oops!\")\n",
    "        break\n",
    "    number += 1\n",
    "    if number == guess_me:\n",
    "        print(\"found it!\")\n",
    "        break\n",
    "    "
   ]
  },
  {
   "cell_type": "code",
   "execution_count": 27,
   "id": "bcfe4815",
   "metadata": {},
   "outputs": [
    {
     "name": "stdout",
     "output_type": "stream",
     "text": [
      "too low!\n",
      "too low!\n",
      "too low!\n",
      "too low!\n",
      "found me!\n"
     ]
    }
   ],
   "source": [
    "guess_me = 5\n",
    "number = 1\n",
    "for i in range(10):\n",
    "    if number < guess_me:\n",
    "        print(\"too low!\")\n",
    "    if number > guess_me:\n",
    "        print(\"oops!\")\n",
    "        break\n",
    "    if number == guess_me:\n",
    "        print(\"found me!\")\n",
    "        break\n",
    "    number += 1"
   ]
  },
  {
   "cell_type": "code",
   "execution_count": null,
   "id": "481d6224",
   "metadata": {},
   "outputs": [],
   "source": []
  }
 ],
 "metadata": {
  "kernelspec": {
   "display_name": "Python 3 (ipykernel)",
   "language": "python",
   "name": "python3"
  },
  "language_info": {
   "codemirror_mode": {
    "name": "ipython",
    "version": 3
   },
   "file_extension": ".py",
   "mimetype": "text/x-python",
   "name": "python",
   "nbconvert_exporter": "python",
   "pygments_lexer": "ipython3",
   "version": "3.9.12"
  }
 },
 "nbformat": 4,
 "nbformat_minor": 5
}
